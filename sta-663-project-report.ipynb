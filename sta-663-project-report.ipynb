{
 "cells": [
  {
   "cell_type": "markdown",
   "metadata": {},
   "source": [
    "# STA 663 Final Project\n",
    "### —Biclustering via Sparse Singular Value Decomposition\n",
    "\n",
    "Yanqin Shen: abstract, algrithm optimization, algorithm comparison, discussion, package installation <br>\n",
    "Gaojia Xu: Background, Description of algorithm, initial algorithm implementation, real data set application, algorithm comparison <br>\n",
    "Nancy Fu: Background, Description of algorithm, initial algorithm implementation, simulated data application,algorithm comparison, discussion"
   ]
  },
  {
   "cell_type": "markdown",
   "metadata": {},
   "source": [
    "# Python implementation of Biclustering through SSVD"
   ]
  },
  {
   "cell_type": "markdown",
   "metadata": {},
   "source": [
    "# 1. Abstract"
   ]
  },
  {
   "cell_type": "markdown",
   "metadata": {},
   "source": [
    "Sparse singular value decomposition (SSVD) is a tool for biclustering and seeks a low-rank matrix approximation to the orginal data matrices. It imposes sparsity regularization penalities to the least squares regression to obtain the sparse singular vectors. It uses BIC criterion to find the best parameters for the penalities and iterates to find the decomposition result until convergence. To optimize the algorithm, we use parallalism and JOT compiler. We test the algorithm on simulated data, lung cancer data and Brain Cancer Data. Finally, we compared SSVD with SVD and sparse PCA."
   ]
  },
  {
   "cell_type": "markdown",
   "metadata": {},
   "source": [
    "$ \\boldsymbol {Key Phrases: Biclustering; Sparse SVD; SVD; PCA.}$ "
   ]
  },
  {
   "cell_type": "markdown",
   "metadata": {},
   "source": [
    "# 2.Background"
   ]
  },
  {
   "cell_type": "markdown",
   "metadata": {},
   "source": [
    "Nowadays, high dimensional datasets has become common and inevitable in various applications. In some situations, people are having high-dimension low sample size (HDLSS) data. To deal with this kind of dataset, we can use biclustering method as an important unsupervised learning tool. It simultaneously identify distinctive \"checkerboard\" patterns in data matrices. In the paper we used, named Biclustering via Sparse Singular Value Decomposition by Mihee Lee, Haipeng Shen, Jianhua Z. Huang, and J. S. Marron., Sparse Singular Value Decomposition (SSVD) is introduced as a new tool for biclustering."
   ]
  },
  {
   "cell_type": "markdown",
   "metadata": {},
   "source": [
    "Performing SSVD allows us find out the sparse structure for both directions in the datasets. It is useful in different fields, such as in biological data analysis, data mining, medical applications and so on. Because there is no closed form solution, the algorithm iteratively updates associated parameters until converge."
   ]
  },
  {
   "cell_type": "markdown",
   "metadata": {},
   "source": [
    "# 3. Description of algorithm"
   ]
  },
  {
   "cell_type": "markdown",
   "metadata": {},
   "source": [
    "Firstly, the algorithm of Sparse Singular Value Decomposition (SSVD) provides the rank-k decomposition matrix to the original data matrix, which can be interpreted as the summation of k SSVD layers. Then it is possible obtain the current first layer step by step, subsequent layer can be obtained by the same method from the residual matrix after the previous layer. The top layer can be obtained based on the penlaized sum-of-squares criterion in which the degree of sparsity of each iteration is selected based on BIC. The following algorithm only outpus the top layer and weight parameters $\\gamma_1, \\gamma_2$ are fixed to be 2."
   ]
  },
  {
   "cell_type": "markdown",
   "metadata": {},
   "source": [
    "### Step 1. Initialize $u$, $s$, $v$\n",
    "\n",
    "Apply the standard SVD to $X$, which returns $U$, $S$, and $V^T$ whose dimensions are $n*d$, $1*d$, and $d*d$. <br>\n",
    "\n",
    "Since the first SVD layer $s_1 u_1 v_1^T$ is the best rank-one matrix approximation of $X$ under the Frobenius norm, denote the first SVD triplet as the first vector in $U$, $S$, and $V^T$ and name those $\\{u_{old}, s_{old}, v_{old}\\}$.\n",
    "\n",
    "\n",
    "### Step 2. Update $u$, $v$\n",
    "\n",
    "\n",
    "#### 2.(a) update $v$.\n",
    "\n",
    "1. For each possible $\\lambda_v$ in specified range: calculate its $BIC$, where $BIC(\\lambda_v) = \\frac{||Y-\\hat{Y}||^2}{nd\\cdot \\hat{\\sigma_v^2}} + \\frac{log(nd)}{nd}\\hat{df}(\\lambda_v)$,\n",
    "\n",
    "where $\\hat{df}(\\lambda_v)$ is the degree of sparsity of $v$, defined by the number of $(X^T u)_j$s theta are greater than $\\lambda_v w_{v,j}/2$,\n",
    "\n",
    "$\\hat{\\sigma_v^2}$ is the OLS estimate of the error variance from the model $||X - u\\tilde{v}||_F^2 + \\lambda_v P_2(\\tilde{v})$, where $\\tilde{v} = sv$.\n",
    "\n",
    "2. Pick the best $\\lambda_v$ which minimizes $BIC(\\lambda_v)$ as the penalty parameter.\n",
    "\n",
    "\n",
    "3. Set $\\tilde v_j = sign{(X^T u_{old})_j}(|(X^T u_{old})_j|-\\lambda_v w_{2,j}/2)_{+}$, $\\{j = 1, \\cdots, d\\}$, where $w_2 = |\\hat{\\tilde {v}}|^{-\\gamma_2}$, $\\hat{\\tilde {v}} = X^Tu$\n",
    "\n",
    "\n",
    "4. Let  $\\tilde v = (\\tilde v_1, ... , \\tilde v_d)^T $, $v_{new} = \\tilde v/||\\tilde v_{new}||$\n",
    "\n",
    "\n",
    "#### 2.(b) update $u$.\n",
    "\n",
    "1. For each possible $\\lambda_u$ in specified range: calculate its $BIC$, where $BIC(\\lambda_u) = \\frac{||Z-\\hat{Z}||^2}{nd\\cdot \\hat{\\sigma_u^2}} + \\frac{log(nd)}{nd}\\hat{df}(\\lambda_u)$,\n",
    "\n",
    "where $\\hat{df}(\\lambda_u)$ is the degree of sparsity of $v$, defined by the number of $(X^T v)_j$s theta are greater than $\\lambda_u w_{u,j}/2$,\n",
    "\n",
    "$\\hat{\\sigma_u^2}$ is the OLS estimate of the error variance from the model $||X - \\tilde{u}v||_F^2 + \\lambda_u P_2(\\tilde{u})$, where $\\tilde{u} = su$.\n",
    "\n",
    "2. Pick the best $\\lambda_u$ which minimizes $BIC(\\lambda_u)$ as the penalty parameter.\n",
    "\n",
    "\n",
    "3. Set $\\tilde u_j = sign{(X^T v_{new})_i}(|(X^T v_{new})_i|-\\lambda_u w_{1,j}/2)_{+}$, $\\{i = 1, \\cdots, n\\}$, where $w_1 = |\\hat{\\tilde {u}}|^{-\\gamma_1}$, $\\hat{\\tilde {u}} = X^Tv$\n",
    "\n",
    "\n",
    "4. Let  $\\tilde u = (\\tilde u_1, ... , \\tilde u_d)^T $, $u_{new} = \\tilde u/||\\tilde u_{new}||$\n",
    "\n",
    "\n",
    "#### 2.(c) repeat\n",
    "Set $u_{old}=u_{new}$, and repeat steps 2(a) and 2(b) until convergence, which means either the distance between $v_{new}$ and $v_{old}$ or that between $u_{new}$ and $u_{old}$ are smaller than a certain criteria $tol$.\n",
    "\n",
    "\n",
    "### Step 3. Results\n",
    "\n",
    "Set $u = u_{new}$ and $v = v_{new}$, $s=u_{new}^TXv_{new}$ at convergence.\n",
    "\n",
    "### Note:\n",
    "\n",
    "In $w_2$ and $w_1$, the zero entries in $X^Tv$ and $Xu$ can not be raised to negrative powers $-\\gamma_1$ and $-\\gamma_2$. Since when $X^Tv_j = 0$ or $Xu_j =0$, $w_{1,j} = (Xu_j)^{-gamma1}$ and $w_{2,j} = (X^Tv_j)^{-gamma2}$ will be infinity, we will replace the corresponding entries in $w$ with infinity and only calculate $w$ with the power otherwise."
   ]
  },
  {
   "cell_type": "markdown",
   "metadata": {},
   "source": [
    "# 4.Describe optimization for performance"
   ]
  },
  {
   "cell_type": "markdown",
   "metadata": {},
   "source": [
    "## 4.1 initial algorithm implementation"
   ]
  },
  {
   "cell_type": "markdown",
   "metadata": {},
   "source": [
    "Firstly, we implement the algorithm using plain Python from the above description of the algorithm. To test the dataset, we will use a simulated data with dimension (100,50). The explanation for simulate data costruction is in the next section."
   ]
  },
  {
   "cell_type": "code",
   "execution_count": 2,
   "metadata": {},
   "outputs": [],
   "source": [
    "import numpy as np\n",
    "from numpy import linalg as la\n",
    "from functools import partial\n",
    "from joblib import Parallel,delayed\n",
    "import numba\n",
    "from numba import jit\n",
    "import warnings\n",
    "warnings.filterwarnings('ignore')\n",
    "from sklearn.decomposition import SparsePCA\n",
    "import pandas as pd\n",
    "import seaborn as sns\n",
    "import nltk"
   ]
  },
  {
   "cell_type": "code",
   "execution_count": 73,
   "metadata": {},
   "outputs": [
    {
     "data": {
      "text/plain": [
       "(100, 50)"
      ]
     },
     "execution_count": 73,
     "metadata": {},
     "output_type": "execute_result"
    }
   ],
   "source": [
    "u_tilde = [[10],[9],[8],[7],[6],[5],[4],[3], [2]*17, [0]*75]\n",
    "u_tilde = np.array(sum(u_tilde, [])).reshape((-1,1))\n",
    "u_true = u_tilde / np.linalg.norm(u_tilde)\n",
    "\n",
    "v_tilde = [[10],[-10],[8],[-8],[5],[-5],[3]*5,[-3]*5,[0]*34]\n",
    "v_tilde = np.array(sum(v_tilde, [])).reshape((-1,1))\n",
    "v_true = v_tilde / np.linalg.norm(v_tilde)\n",
    "\n",
    "s_true = 50\n",
    "\n",
    "X_star = s_true*u_true@v_true.T\n",
    "\n",
    "#construct X with noise added\n",
    "err = np.random.normal(0, 1, size=X_star.shape)\n",
    "\n",
    "X = X_star + err\n",
    "X.shape"
   ]
  },
  {
   "cell_type": "code",
   "execution_count": 36,
   "metadata": {},
   "outputs": [],
   "source": [
    "def SSVD(X, tol=1e-6, gamma1=2, gamma2=2, max_it = 100):\n",
    "    \"\"\"\n",
    "    SSVD to obtain the first layer of matrix X \n",
    "    \n",
    "    X = matrix to be decomposed\n",
    "    tol = stopping criteria for convergence\n",
    "    gamma = weight parameters\n",
    "    max_it = maximum # of iterations\n",
    "    \n",
    "    * We will replace w with INF if corresponding entry in XTU/XV is zero\n",
    "    \"\"\"\n",
    "    \n",
    "    U, S, Vt = np.linalg.svd(X)\n",
    "    n = X.shape[0]\n",
    "    d = X.shape[1]\n",
    "    \n",
    "    S = S[0] \n",
    "    U = U[:,0].reshape((-1,1))\n",
    "    V = Vt[0,:].reshape((-1,1))\n",
    "    \n",
    "    SST = np.sum(X**2)\n",
    "    \n",
    "    num_it = 0\n",
    "    V_delta, U_delta = 1000, 1000\n",
    "    \n",
    "    while (V_delta > tol) or (U_delta > tol) or (num_it > max_it):\n",
    "        \n",
    "        num_it += 1\n",
    "        \n",
    "        ### UPDATE V ###\n",
    "\n",
    "        XTu = X.T @ U             \n",
    "        '''Since zero cannot be raised to power, we will replace w whose index in XTu is zero with Inf'''\n",
    "        replaced_XTu = np.ravel(abs(XTu))\n",
    "        nonzero_ind = (replaced_XTu > 1e-4)\n",
    "        zero_ind = (replaced_XTu <= 1e-4)\n",
    "        \n",
    "        w2 = np.zeros(d)\n",
    "        w2[nonzero_ind] = replaced_XTu[nonzero_ind] ** (-gamma2)  \n",
    "        w2[zero_ind] = np.Inf\n",
    "        \n",
    "        sig_sq = np.trace((X-S*U@V.T) @ (X-S*U@V.T).T)/(n*d-d)\n",
    "\n",
    "        # calculate BIC and find best lambda for current V\n",
    "\n",
    "        lambda2s = np.linspace(0, 12, 5000)[1:]\n",
    "        BICs = np.zeros(len(lambda2s))\n",
    "\n",
    "        for i in range(len(lambda2s)):\n",
    "            lamb2 = lambda2s[i]\n",
    "            X_hat = U * S @ V.T\n",
    "    \n",
    "            # given current lambda, count df & calculate BIC\n",
    "            dfV_hat = np.sum(abs(XTu) > lamb2 * w2/2) # number of entries that satify abs(XTu) > lamb2 * w2/2\n",
    "            BICs[i] = np.sum((X - X_hat)**2) /(n*d * sig_sq) + np.log(n*d)/(n*d) * dfV_hat\n",
    "        opt_lamb2 = lambda2s[np.argmin(BICs)]\n",
    "\n",
    "        # for best lambda, calculate v_tilde\n",
    "\n",
    "        V_tilde = np.zeros((d, 1))\n",
    "        for j in range(d):\n",
    "            XTu_j = XTu[j]\n",
    "            V_tilde[j] = np.sign(XTu_j) * np.maximum(abs(XTu_j) - opt_lamb2 * w2[j]/2, 0)\n",
    "\n",
    "        # new V\n",
    "\n",
    "        V_new = V_tilde / np.sqrt(np.sum(V_tilde**2))\n",
    "        V_delta = np.sqrt(np.sum((V - V_new)**2))\n",
    "        V = V_new\n",
    "\n",
    "\n",
    "\n",
    "        ### UPDATE U ###\n",
    "\n",
    "        Xv = X @ V\n",
    "        '''Since zero cannot be raised to power, we will replace w whose index in XTu is zero with Inf'''\n",
    "        replaced_Xv = np.ravel(abs(Xv))\n",
    "        nonzero_ind = (replaced_Xv > 1e-4)\n",
    "        zero_ind = (replaced_Xv <= 1e-4)\n",
    "        \n",
    "        w1 = np.zeros(n)\n",
    "        w1[nonzero_ind] = replaced_Xv[nonzero_ind] ** (-gamma1)  \n",
    "        w1[zero_ind] = np.Inf\n",
    "\n",
    "        sig_sq = np.trace((X-S*U@V.T) @ (X-S*U@V.T).T)/(n*d-d)\n",
    "\n",
    "        # calculate BIC and find best lambda for current U\n",
    "\n",
    "        lambda1s = np.linspace(0, 12, 5000)[1:]\n",
    "        BICs = np.zeros(len(lambda1s))\n",
    "\n",
    "        for i in range(len(lambda1s)):\n",
    "            lamb1 = lambda1s[i]\n",
    "            X_hat = U * S @ V.T\n",
    "    \n",
    "            # given current lambda, count df & calculate BIC\n",
    "            dfU_hat = np.sum(abs(Xv) > lamb1 * w1/2) # number of entries that satify abs(Xv) > lamb1 * w1/2\n",
    "            BICs[i] = np.sum((X - X_hat)**2) /(n*d * sig_sq) + np.log(n*d)/(n*d) * dfU_hat\n",
    "        opt_lamb1 = lambda1s[np.argmin(BICs)]\n",
    "\n",
    "        # for best lambda, calculate u_tilde\n",
    "\n",
    "        U_tilde = np.zeros((n, 1))\n",
    "        for j in range(n):\n",
    "            Xv_j = Xv[j]\n",
    "            U_tilde[j] = np.sign(Xv_j) * np.maximum(abs(Xv_j) - opt_lamb1 * w1[j]/2, 0)\n",
    "\n",
    "        #new U\n",
    "\n",
    "        U_new = U_tilde / np.sqrt(np.sum(U_tilde**2)) #max(np.sum(abs(U_tilde), axis=0))\n",
    "        U_delta = np.sqrt(np.sum((U - U_new)**2))\n",
    "        U = U_new\n",
    "        \n",
    "        \n",
    "    S = U.T @ X @ V\n",
    "    \n",
    "    # return non-zero entries of the sparse matrices\n",
    "    return (np.ravel(U), \n",
    "            S,\n",
    "            np.ravel(V), \n",
    "            num_it)"
   ]
  },
  {
   "cell_type": "code",
   "execution_count": 38,
   "metadata": {},
   "outputs": [
    {
     "name": "stdout",
     "output_type": "stream",
     "text": [
      "2.65 s ± 28.8 ms per loop (mean ± std. dev. of 7 runs, 1 loop each)\n"
     ]
    }
   ],
   "source": [
    "%timeit SSVD(X, tol=10**(-6), gamma1=2, gamma2=2, max_it = 100)"
   ]
  },
  {
   "cell_type": "markdown",
   "metadata": {},
   "source": [
    "We can see that it takes around 2.7s for the simulated data. Such speed is not satisfactory, so we want to optimize the algorithm by other methods."
   ]
  },
  {
   "cell_type": "markdown",
   "metadata": {},
   "source": [
    "## Parallelism by Parallel in joblib"
   ]
  },
  {
   "cell_type": "markdown",
   "metadata": {},
   "source": [
    "In the function with plain Python, we can see that there are 4 for loops, 2 for getting BICS and 2 for calculating $\\tilde v$ and $\\tilde u$. We can try to accelarate the algorithm by using parallalism for these loops. Here, we use loop parallalism with `joblib`. Here, we use partial function from `functool` to allow us to do parallalism by only changing $\\lambda$ for getting BICs and index for getting $\\tilde v$ and $\\tilde u$."
   ]
  },
  {
   "cell_type": "code",
   "execution_count": 39,
   "metadata": {},
   "outputs": [],
   "source": [
    "def get_BIC(lamb,X_old,w,X,X_hat,sig_sq,n,d):\n",
    "    \"\"\"\n",
    "    To get BIC for updating u and v\n",
    "    \"\"\"\n",
    "    df_hat = np.sum(abs(X_old > lamb * w/2))\n",
    "    BIC = np.sum((X - X_hat)**2) /(n*d * sig_sq) + np.log(n*d)/(n*d) * df_hat        \n",
    "    return BIC\n",
    "\n",
    "def get_tilde(j, X_old, opt_lamb,w):\n",
    "    \"\"\"\n",
    "    To get jth component of U_tilde and V_tilde\n",
    "    \"\"\"\n",
    "    X_j = X_old[j]\n",
    "    tilde = np.sign(X_j) * np.maximum(abs(X_j) - opt_lamb * w[j]/2, 0)\n",
    "    return tilde\n",
    "\n",
    "def SSVD_parallel(X, tol=1e-6, gamma1=2, gamma2=2, max_it = 100):\n",
    "    \n",
    "    \"\"\"\n",
    "    parallel version of SSVD to obtain the first layer of matrix X \n",
    "    \n",
    "    X = matrix to be decomposed\n",
    "    tol = stopping criteria for convergence\n",
    "    gamma = weight parameters\n",
    "    max_it = maximum # of iterations\n",
    "    \n",
    "    Return S,V,D and number of iterations\n",
    "    \"\"\"\n",
    "    \n",
    "    U, S, Vt = np.linalg.svd(X)\n",
    "    n = X.shape[0]\n",
    "    d = X.shape[1]\n",
    "                    \n",
    "    S = S[0] \n",
    "    U = U[:,0].reshape((-1,1))\n",
    "    V = Vt[0,:].reshape((-1,1))\n",
    "    \n",
    "                    \n",
    "    SST = np.sum(X**2)\n",
    "    \n",
    "    num_it = 0\n",
    "    V_delta, U_delta = 1000, 1000\n",
    "    \n",
    "    while (V_delta > tol) or (U_delta > tol) or (num_it > max_it):\n",
    "        \n",
    "        num_it += 1\n",
    "        \n",
    "        ### UPDATE V ###\n",
    "\n",
    "        XTu = X.T @ U             \n",
    "        '''Since zero cannot be raised to power, we will replace the zeros in XTu with very small numbers'''\n",
    "        replaced_XTu = np.ravel(abs(XTu))\n",
    "        nonzero_ind = (replaced_XTu > 1e-4)\n",
    "        zero_ind = (replaced_XTu <= 1e-4)\n",
    "        \n",
    "        w2 = np.zeros(d)\n",
    "        w2[nonzero_ind] = replaced_XTu[nonzero_ind] ** (-gamma2)  \n",
    "        w2[zero_ind] = np.Inf\n",
    "        \n",
    "        sig_sq = np.trace((X-S*U@V.T) @ (X-S*U@V.T).T)/(n*d-d)\n",
    "\n",
    "        # calculate BIC and find best lambda for current V\n",
    "\n",
    "        lambda2s = np.linspace(0, 12, 5000)[1:]\n",
    "        X_hat = U * S @ V.T\n",
    "        get_BIC_partial1 = partial(get_BIC, X_old = XTu,w = w2,X = X,X_hat = X_hat,sig_sq = sig_sq,n = n,d = d)\n",
    "        BICs = Parallel(n_jobs = 4)(delayed(get_BIC_partial1)(i) for i in lambda2s)\n",
    "        opt_lamb2 = lambda2s[np.argmin(BICs)]\n",
    "\n",
    "        # for best lambda, calculate v_tilde\n",
    "        \n",
    "        get_tilde_partial1 = partial(get_tilde, X_old = XTu, opt_lamb = opt_lamb2, w = w2)\n",
    "        V_tilde = np.array(Parallel(n_jobs = 4)(delayed(get_tilde_partial1)(i) for i in range(d)))\n",
    "\n",
    "        # new V\n",
    "\n",
    "        V_new = V_tilde / np.sqrt(np.sum(V_tilde**2)) #max(np.sum(abs(V_tilde), axis=0))\n",
    "        V_delta = np.sqrt(np.sum((V - V_new)**2))\n",
    "        V = V_new\n",
    "\n",
    "        \n",
    "        ### UPDATE U ###\n",
    "\n",
    "        Xv = X @ V\n",
    "        '''Since zero cannot be raised to power, we will replace the zeros in XTu with very small numbers'''\n",
    "        replaced_Xv = np.ravel(abs(Xv))\n",
    "        nonzero_ind = (replaced_Xv > 1e-4)\n",
    "        zero_ind = (replaced_Xv <= 1e-4)\n",
    "        \n",
    "        w1 = np.zeros(n)\n",
    "        w1[nonzero_ind] = replaced_Xv[nonzero_ind] ** (-gamma1)  \n",
    "        w1[zero_ind] = np.Inf\n",
    "\n",
    "        sig_sq = np.trace((X-S*U@V.T) @ (X-S*U@V.T).T)/(n*d-d)\n",
    "\n",
    "        # calculate BIC and find best lambda for current U\n",
    "\n",
    "        lambda1s = np.linspace(0, 12, 5000)[1:]\n",
    "        X_hat = U * S @ V.T\n",
    "        get_BIC_partial2 = partial(get_BIC, X_old = Xv,w = w1,X = X,X_hat = X_hat,sig_sq = sig_sq,n = n,d = d)\n",
    "        BICs = Parallel(n_jobs = 4)(delayed(get_BIC_partial2)(i) for i in lambda1s)\n",
    "        opt_lamb1 = lambda1s[np.argmin(BICs)]\n",
    "        \n",
    "        # for best lambda, calculate v_tilde\n",
    "        \n",
    "        get_tilde_partial2 = partial(get_tilde, X_old = Xv, opt_lamb = opt_lamb1, w = w1)\n",
    "        U_tilde = np.array(Parallel(n_jobs = 4)(delayed(get_tilde_partial2)(i) for i in range(n)))\n",
    "\n",
    "        #new V\n",
    "\n",
    "        U_new = U_tilde / np.sqrt(np.sum(U_tilde**2)) #max(np.sum(abs(U_tilde), axis=0))\n",
    "        U_delta = np.sqrt(np.sum((U - U_new)**2))\n",
    "        U = U_new\n",
    "        \n",
    "        \n",
    "    S = U.T @ X @ V\n",
    "    \n",
    "    # return non-zero entries of the sparse matrices\n",
    "    return (np.ravel(U), \n",
    "            S,\n",
    "            np.ravel(V), \n",
    "            num_it)"
   ]
  },
  {
   "cell_type": "code",
   "execution_count": 6,
   "metadata": {},
   "outputs": [
    {
     "name": "stdout",
     "output_type": "stream",
     "text": [
      "1.8 s ± 31.3 ms per loop (mean ± std. dev. of 7 runs, 1 loop each)\n"
     ]
    }
   ],
   "source": [
    "%timeit SSVD_parallel(X, tol=10**(-6), gamma1=2, gamma2=2, max_it = 100)"
   ]
  },
  {
   "cell_type": "markdown",
   "metadata": {},
   "source": [
    "Comparing the runnig time with algorithm in plain Python, it takes less time to use parallalism, but the performance does not improve too much. The reason may be that the cost of setting up worker processes outweigh the benefit from parallelism."
   ]
  },
  {
   "cell_type": "markdown",
   "metadata": {},
   "source": [
    "## 4.3 Numba"
   ]
  },
  {
   "cell_type": "markdown",
   "metadata": {},
   "source": [
    "Then, we considered to use JIT compilation by `numba` to accelerate the algorithm. Since we have loops inside the algorithm, we will use parallel version.\n",
    "\n",
    "Notes:\n",
    "1. Since reshape(-1,1) to get column vectors is not working in numba, we use the exact dimension to replace -1.\n",
    "2. Direct numpy indexing is not working in numba, so we instead used np.where.\n",
    "3. Doing outproduct by @ is not workiing in numba, so we used np.outer.\n",
    "4. The built-in abs function is not supported by numba, so we used abs function in `numpy`."
   ]
  },
  {
   "cell_type": "code",
   "execution_count": 6,
   "metadata": {},
   "outputs": [],
   "source": [
    "@jit (nopython = True, parallel = True)\n",
    "\n",
    "def SSVD_numba(X, tol=1e-6, gamma1=2, gamma2=2, max_it = 100):\n",
    "    \n",
    "    \"\"\"\n",
    "    Numba version of SSVD to obtain the first layer of matrix X \n",
    "    \n",
    "    X = matrix to be decomposed\n",
    "    tol = stopping criteria for convergence\n",
    "    gamma = weight parameters\n",
    "    max_it = maximum # of iterations\n",
    "    \n",
    "    Return S,V,D and number of iterations\n",
    "    \"\"\"\n",
    "    \n",
    "    U, S, Vt = np.linalg.svd(X)\n",
    "    n = X.shape[0]\n",
    "    d = X.shape[1]\n",
    "                    \n",
    "    S = S[0] \n",
    "    U = U[:,0].reshape((n,1))\n",
    "    V = Vt[:,0].reshape((d,1))\n",
    "                    \n",
    "    SST = np.sum(X**2)\n",
    "    \n",
    "    num_it = 0\n",
    "    V_delta, U_delta = 1000, 1000\n",
    "    \n",
    "    while (V_delta > tol) or (U_delta > tol) or (num_it > max_it):\n",
    "        \n",
    "        num_it += 1\n",
    "        \n",
    "        ### UPDATE V ###\n",
    "\n",
    "        XTu = np.dot(X.T, U)             \n",
    "        '''Since zero cannot be raised to power, we will replace the zeros in XTu with very small numbers'''\n",
    "        replaced_XTu = np.ravel(np.abs(XTu))\n",
    "        nonzero_ind = (replaced_XTu > 1e-4)\n",
    "        zero_ind = (replaced_XTu <= 1e-4)\n",
    "\n",
    "        \n",
    "        w2 = np.zeros(d)\n",
    "        w2[nonzero_ind] = replaced_XTu[nonzero_ind] ** (-gamma2)  \n",
    "        w2[zero_ind] = np.Inf    \n",
    "        sig_sq = np.trace((X-S*np.outer(U,V)) @ (X-S*np.outer(U,V)).T)/(n*d-d)\n",
    "\n",
    "        # calculate BIC and find best lambda for current V\n",
    "\n",
    "        lambda2s = np.linspace(0, 12, 5000)[1:]\n",
    "        BICs = np.zeros(len(lambda2s))\n",
    "        X_hat = S * np.outer(U,V)\n",
    "\n",
    "        for i in numba.prange(len(lambda2s)):\n",
    "            lamb2 = lambda2s[i]\n",
    "\n",
    "             #given current lambda, count df & calculate BIC\n",
    "            dfV_hat = np.sum(np.abs(XTu) > lamb2 * w2/2) # number of rows that satify abs(XTu) > lamb2 * w2/2\n",
    "            BICs[i] = np.sum((X - X_hat)**2) /(n*d * sig_sq) + np.log(n*d)/(n*d) * dfV_hat\n",
    "        opt_lamb2 = lambda2s[np.argmin(BICs)]\n",
    "\n",
    "         #for best lambda, calculate v_tilde\n",
    "\n",
    "        V_tilde = np.zeros((d, 1))\n",
    "        for j in numba.prange(d):\n",
    "            XTu_j = XTu[j]\n",
    "            V_tilde[j] = np.sign(XTu_j) * np.maximum(np.abs(XTu_j) - opt_lamb2 * w2[j]/2, 0)\n",
    "    \n",
    "         #new V\n",
    "\n",
    "        V_new = V_tilde / np.sqrt(np.sum(V_tilde**2)) #max(np.sum(abs(V_tilde), axis=0))\n",
    "        V_delta = np.sqrt(np.sum((V - V_new)**2))\n",
    "        V = V_new\n",
    "\n",
    "        \n",
    "        ### UPDATE U ###\n",
    "\n",
    "        Xv = np.dot(X, V)\n",
    "        '''Since zero cannot be raised to power, we will replace the zeros in XTu with very small numbers'''\n",
    "        replaced_Xv = np.ravel(np.abs(Xv))\n",
    "        nonzero_ind = (replaced_Xv > 1e-4)\n",
    "        zero_ind = (replaced_Xv <= 1e-4)\n",
    "        \n",
    "        w1 = np.zeros(n)\n",
    "        w1[nonzero_ind] = replaced_Xv[nonzero_ind] ** (-gamma1)  \n",
    "        w1[zero_ind] = np.Inf\n",
    "\n",
    "        # calculate BIC and find best lambda for current U\n",
    "\n",
    "        lambda1s = np.linspace(0, 12, 5000)[1:]\n",
    "        BICs = np.zeros(len(lambda1s))\n",
    "        X_hat = S * np.outer(U,V)\n",
    "\n",
    "        for i in numba.prange(len(lambda1s)):\n",
    "            lamb1 = lambda1s[i]\n",
    "    \n",
    "            # given current lambda, count df & calculate BIC\n",
    "            dfU_hat =  np.sum(np.abs(Xv) > lamb1 * w1/2)# number of rows that satify abs(Xv) > lamb1 * w1/2\n",
    "            BICs[i] = np.sum((X - X_hat)**2) /(n*d * sig_sq) + np.log(n*d)/(n*d) * dfU_hat\n",
    "        opt_lamb1 = lambda1s[np.argmin(BICs)]\n",
    "\n",
    "        # for best lambda, calculate v_tilde\n",
    "\n",
    "        U_tilde = np.zeros((n, 1))\n",
    "        for j in numba.prange(n):\n",
    "            Xv_j = Xv[j]\n",
    "            U_tilde[j] = np.sign(Xv_j) * np.maximum(np.abs(Xv_j) - opt_lamb1 * w1[j]/2, 0)\n",
    "\n",
    "        #new V\n",
    "\n",
    "        U_new = U_tilde / np.sqrt(np.sum(U_tilde**2)) #max(np.sum(abs(U_tilde), axis=0))\n",
    "        U_delta = np.sqrt(np.sum((U - U_new)**2))\n",
    "        U = U_new\n",
    "        \n",
    "        \n",
    "        \n",
    "    S = U.T @ X @ V\n",
    "    \n",
    "    # return non-zero entries of the sparse matrices\n",
    "    return (np.ravel(U), \n",
    "            S,\n",
    "            np.ravel(V), \n",
    "            num_it)"
   ]
  },
  {
   "cell_type": "code",
   "execution_count": 8,
   "metadata": {},
   "outputs": [
    {
     "name": "stdout",
     "output_type": "stream",
     "text": [
      "85.4 ms ± 4.3 ms per loop (mean ± std. dev. of 7 runs, 1 loop each)\n"
     ]
    }
   ],
   "source": [
    "%timeit SSVD_numba(X, tol=10**(-6), gamma1=2, gamma2=2, max_it = 100)"
   ]
  },
  {
   "cell_type": "markdown",
   "metadata": {},
   "source": [
    "We can see that comparing with previous algorithms, this algorithm is much faster. It takes advantage of parallalism and nonpython process.\n",
    "Thus, the numba parallel version performs the fastest, so we will use the function `SSVD_numba` for further discussion."
   ]
  },
  {
   "cell_type": "markdown",
   "metadata": {},
   "source": [
    "# 5. Applications to simulated data sets"
   ]
  },
  {
   "cell_type": "markdown",
   "metadata": {},
   "source": [
    "Based on the simulation section in the paper. $X^* = suv^T$ \n",
    "\n",
    "$\\tilde{u} = [10,9,8,7,6,5,4,3,r(2,17),r(0,75)]^T$, $u=\\tilde{u}/||\\tilde{u}||$\n",
    "\n",
    "$\\tilde{v} = [10,-10,8,-8,5,-5,r(3,5),r(-3,5),r(0,34)]^T$, $v=\\tilde{v}/||\\tilde{v}||$\n",
    "\n",
    "where $r(a,b)$ denotes a vector of length b, whose entries are all a.\n",
    "\n",
    "Set $s=50$."
   ]
  },
  {
   "cell_type": "code",
   "execution_count": 9,
   "metadata": {},
   "outputs": [],
   "source": [
    "def get_plot(u, s, v, clusters, dismiss=0):\n",
    "    \"\"\"\n",
    "    Get heat plot of clusters in rank 1 approximation.\n",
    "    \n",
    "    u, s, v = SSVD function output\n",
    "    clusters = vector of predetermined groups\n",
    "    dismiss = index discarded\n",
    "    \"\"\"\n",
    "    \n",
    "    X_star = s*u[:,None]@v[None,:]\n",
    "    unique_clusters = np.unique(clusters)\n",
    "    \n",
    "    row_idx = np.empty(0, dtype = 'int')\n",
    "    for i in range(len(unique_clusters)): #sort u by unique clusters\n",
    "            idx = np.where(clusters == unique_clusters[i])\n",
    "            clus_idx = idx[0][np.argsort(u[idx])]\n",
    "            row_idx = np.concatenate((row_idx, clus_idx)) #update row index\n",
    "\n",
    "    X = X_star[:,np.argsort(np.abs(v))[dismiss:]] \n",
    "    v_sort = v[np.argsort(np.abs(v))[dismiss:]] #smallest to largest absolute v (col structure of X)\n",
    "    col_idx = np.argsort(v_sort) \n",
    "    \n",
    "    sns.heatmap(X[np.ix_(row_idx, col_idx)], vmin=-1, vmax=1, cmap = 'bwr')"
   ]
  },
  {
   "cell_type": "code",
   "execution_count": 10,
   "metadata": {},
   "outputs": [],
   "source": [
    "clusters = [[1]*10,[2]*15,[3]*75]\n",
    "clusters = np.array(sum(clusters, []))"
   ]
  },
  {
   "cell_type": "markdown",
   "metadata": {},
   "source": [
    "True data checkboard is shown below."
   ]
  },
  {
   "cell_type": "code",
   "execution_count": 11,
   "metadata": {},
   "outputs": [
    {
     "data": {
      "image/png": "[encoded data removed]",
      "text/plain": [
       "<Figure size 432x288 with 2 Axes>"
      ]
     },
     "metadata": {
      "needs_background": "light"
     },
     "output_type": "display_data"
    }
   ],
   "source": [
    "get_plot(u_true.reshape(-1), s_true, v_true.reshape(-1), clusters)"
   ]
  },
  {
   "cell_type": "markdown",
   "metadata": {},
   "source": [
    "$X$ adds noise to $X_{true}$. The rank 1 approximation from normal SVD is shown below. We can see that the result is very different from the true result. There are less white regions than expected."
   ]
  },
  {
   "cell_type": "code",
   "execution_count": 12,
   "metadata": {},
   "outputs": [
    {
     "data": {
      "image/png": "[encoded data removed]",
      "text/plain": [
       "<Figure size 432x288 with 2 Axes>"
      ]
     },
     "metadata": {
      "needs_background": "light"
     },
     "output_type": "display_data"
    }
   ],
   "source": [
    "U, S, V = np.linalg.svd(X)\n",
    "u = U.T[0]\n",
    "v = V.T[0]\n",
    "s = S[0]\n",
    "\n",
    "get_plot(u.reshape(-1), s, v.reshape(-1), clusters)"
   ]
  },
  {
   "cell_type": "markdown",
   "metadata": {},
   "source": [
    "The rank 1 approximation from defined SSVD is shown below, which is similar to true data checkboard. Thus, SSVD algorithms outperforms normal SVD for the simulated data. "
   ]
  },
  {
   "cell_type": "code",
   "execution_count": 13,
   "metadata": {},
   "outputs": [
    {
     "data": {
      "image/png": "[encoded data removed]",
      "text/plain": [
       "<Figure size 432x288 with 2 Axes>"
      ]
     },
     "metadata": {
      "needs_background": "light"
     },
     "output_type": "display_data"
    }
   ],
   "source": [
    "u, s, v, niter = SSVD_numba(X)\n",
    "get_plot(u, s, v, clusters)"
   ]
  },
  {
   "cell_type": "markdown",
   "metadata": {},
   "source": [
    "# 6.Applications to real data sets"
   ]
  },
  {
   "cell_type": "markdown",
   "metadata": {},
   "source": [
    "## 6.1 Lung Cancer Data"
   ]
  },
  {
   "cell_type": "markdown",
   "metadata": {},
   "source": [
    "From the paper, the author uses the Lung Cancer Data consists of expression levels of 12625 genes and 56 subjects. <br>\n",
    "\n",
    "There are 4 subgroups of subjects: \n",
    "- First 20 are pulmonary carcinoid samples; \n",
    "- 20 to 33 are colon cancer samples; \n",
    "- 34 to 50 are normal lung samples; \n",
    "- 51 to 56 are small cell carcinoma samples."
   ]
  },
  {
   "cell_type": "code",
   "execution_count": 49,
   "metadata": {},
   "outputs": [],
   "source": [
    "LungData = pd.read_csv('LungCancerData.txt', sep=' ')\n",
    "LungData = np.array(LungData.T) # 56 subjects\n",
    "clusters = [[1]*20,[2]*(33-20),[3]*(50-33),[4]*(56-50)]\n",
    "clusters = np.array(sum(clusters, []))"
   ]
  },
  {
   "cell_type": "code",
   "execution_count": 50,
   "metadata": {},
   "outputs": [],
   "source": [
    "u, s, v, niter = SSVD_numba(LungData, tol=1e-6, gamma1=2, gamma2=2, max_it = 100)"
   ]
  },
  {
   "cell_type": "code",
   "execution_count": 51,
   "metadata": {
    "scrolled": true
   },
   "outputs": [
    {
     "data": {
      "image/png": "[encoded data removed]",
      "text/plain": [
       "<Figure size 432x288 with 2 Axes>"
      ]
     },
     "metadata": {
      "needs_background": "light"
     },
     "output_type": "display_data"
    }
   ],
   "source": [
    "get_plot(u, s, v, clusters,8000)"
   ]
  },
  {
   "cell_type": "markdown",
   "metadata": {},
   "source": [
    "In the plot, we discard the last 8000 genes. According to the plot, we can see that by rank1 approximation, there is a clear clustering result. For pulmonary carcinoid samples, genes from 0 to around 534 are positive and genes from around 2560 to the end are negative. For both colon cancer and normal lung samples, genes from 0 to around 534 are negative and genes from around 2560 to the end are positive. In general, the magnitudes for colon cancer samples is smaller than those for normal lung samples. The small cell carcinoma samples is split into two groups here."
   ]
  },
  {
   "cell_type": "markdown",
   "metadata": {},
   "source": [
    "## 6.2 Brain Cancer Data"
   ]
  },
  {
   "cell_type": "markdown",
   "metadata": {},
   "source": [
    "It is the dataset obtained from kaggle website https://www.kaggle.com/michaelchalamet/brain-cancer-data, there are 1500 variables for different features and 4 types of cancers in total. \n",
    "\n",
    "Cancer Type 1 is Pituitary Adenoma, which has 122 observations, Type 2 is Germinoma with 247 samples, Type 3 is Meningiomas, which has 155 samples and Type 4 is Glioma, with 176 observations. We will only take the first 350 observations. Thus, in our dataset, we have 122 observations with Pituitary Adenoma and 128 observations with Germinoma."
   ]
  },
  {
   "cell_type": "code",
   "execution_count": 3,
   "metadata": {},
   "outputs": [
    {
     "data": {
      "text/plain": [
       "(700, 1500)"
      ]
     },
     "execution_count": 3,
     "metadata": {},
     "output_type": "execute_result"
    }
   ],
   "source": [
    "df=pd.read_excel('BrainCancerData.xlsx')\n",
    "labels=df.iloc[:,-1]\n",
    "labels=np.array(labels)\n",
    "\n",
    "df.drop('No.', inplace=True, axis=1)\n",
    "df.drop(df.columns[len(df.columns)-1], axis=1, inplace=True)\n",
    "df.shape"
   ]
  },
  {
   "cell_type": "code",
   "execution_count": 4,
   "metadata": {},
   "outputs": [],
   "source": [
    "df = np.array(df.iloc[0:350,:])\n",
    "labels = labels[0:350]"
   ]
  },
  {
   "cell_type": "code",
   "execution_count": 7,
   "metadata": {},
   "outputs": [],
   "source": [
    "u, s, v, niter = SSVD_numba(df, tol=1e-6, gamma1=2, gamma2=2, max_it = 100)"
   ]
  },
  {
   "cell_type": "code",
   "execution_count": 13,
   "metadata": {
    "scrolled": false
   },
   "outputs": [
    {
     "data": {
      "image/png": "[encoded data removed]",
      "text/plain": [
       "<Figure size 432x288 with 2 Axes>"
      ]
     },
     "metadata": {
      "needs_background": "light"
     },
     "output_type": "display_data"
    }
   ],
   "source": [
    "get_plot(u, s, v, labels,1300)"
   ]
  },
  {
   "cell_type": "markdown",
   "metadata": {},
   "source": [
    "We can see for both groups with Pituitary Adenoma and Germinoma, we can see clear split for different clusters. Also, in general, the the magnitudes in the plot for observations in Germinoma is smaller than those for observations in Pituitary Adenoma. The result is not as satisfactory as the one in lung cancer data, but it still discovers some interesting results."
   ]
  },
  {
   "cell_type": "markdown",
   "metadata": {},
   "source": [
    "# 7.Comparative analysis with competing algorithms"
   ]
  },
  {
   "cell_type": "markdown",
   "metadata": {},
   "source": [
    "In this section, we will compare the SSVD algorithm with two traditional methods to decompoase the matrix, which are normal SVD by `np.linalg.svd` and SPCA by `SparsePCA`. We will use the orginal algorithm for SSVD for to ensure stability in the iteration."
   ]
  },
  {
   "cell_type": "code",
   "execution_count": 4,
   "metadata": {},
   "outputs": [],
   "source": [
    "def check_accuracy(matrix, trueUorV, nsim):\n",
    "    \"\"\"\n",
    "    Test accuracy of algorithms from simulated results\n",
    "    \n",
    "    matrix = simulated U/V by certain algorithm\n",
    "    trueUorV = true U/V\n",
    "    nsim = # of simulation tested\n",
    "    \n",
    "    Returns:\n",
    "    Average # of zeros\n",
    "    Average # of correctly identified zeros\n",
    "    Average # of correctly identified nonzeros\n",
    "    Misclassification rate\n",
    "    \"\"\"\n",
    "    \n",
    "    avg_num_zero = np.sum(matrix==0)/nsim \n",
    "    avg_num_corr_zero = np.sum((matrix==0) & (trueUorV==0))/nsim\n",
    "    avg_num_corr_nonzero = np.sum((matrix!=0) & (trueUorV!=0))/nsim\n",
    "    \n",
    "    missc_rate = np.sum((matrix==0) != (trueUorV==0))/(nsim * len(trueUorV))\n",
    "    \n",
    "    return np.around([avg_num_zero,\n",
    "                      avg_num_corr_zero, \n",
    "                      avg_num_corr_nonzero,\n",
    "                      missc_rate], \n",
    "                     decimals=4)"
   ]
  },
  {
   "cell_type": "code",
   "execution_count": 7,
   "metadata": {},
   "outputs": [],
   "source": [
    "def simulation_compare(U, S, V, nsim = 20):\n",
    "    \"\"\"\n",
    "    Compare accuracy of 3 different algorithms based on simulation\n",
    "    \n",
    "    S = a positive scalar 1*1\n",
    "    U = unit n-vector n*1\n",
    "    V = unit d-vector d*1\n",
    "    nsim = # of simulation tested\n",
    "    \"\"\"    \n",
    "    X_star = S*U@V.T\n",
    "    n, d = X_star.shape\n",
    "    \n",
    "    SSVD_U, SVD_U, SPCA_U = np.zeros((nsim, n)), np.zeros((nsim, n)), np.zeros((nsim, n))\n",
    "    SSVD_V, SVD_V, SPCA_V = np.zeros((nsim, d)), np.zeros((nsim, d)), np.zeros((nsim, d))\n",
    "    \n",
    "    X_whole = np.zeros((n,d,nsim))\n",
    "    for i in range(nsim):\n",
    "        X_whole[:,:,i] = X_star + np.random.randn(n,d)\n",
    "    \n",
    "    for i in range(nsim):\n",
    "        \n",
    "        X = X_whole[:,:,i]\n",
    "        \n",
    "        # 1. SSVD\n",
    "        SSVD_U[i,], S, SSVD_V[i,], nit = SSVD(X, tol=1e-6, gamma1=2, gamma2=2, max_it = 100)\n",
    "        \n",
    "        # 2. SVD\n",
    "        SVD_u, S, SDV_vt = np.linalg.svd(X)\n",
    "        SVD_U[i,] = SVD_u[:,0]\n",
    "        SVD_V[i,] = SDV_vt[0,:]\n",
    "        \n",
    "        # 3. SPCA\n",
    "        spca = SparsePCA(n_components=1)\n",
    "        spca.fit(X)\n",
    "        SPCA_V[i,] = spca.components_[0]\n",
    "        spca.fit(X.T)\n",
    "        SPCA_U[i,] = spca.components_[0]\n",
    "        \n",
    "    \n",
    "    table = np.zeros((6, 4))\n",
    "    i = 0\n",
    "    for method in (SSVD_U, SSVD_V, SVD_U, SVD_V, SPCA_U, SPCA_V):\n",
    "        if i%2==0:\n",
    "            table[i,] = check_accuracy(method, np.ravel(U), nsim)\n",
    "        else:\n",
    "            table[i,] = check_accuracy(method, np.ravel(V), nsim)\n",
    "        i += 1\n",
    "    \n",
    "    df = pd.DataFrame(table)\n",
    "    df.columns = ['Average # of zeros', \n",
    "                  'Average # of correct zeros',\n",
    "                  'Average # of correct nonzeros',\n",
    "                  'Misclassification rate']\n",
    "    df['Method'] = ['SSVD', 'SSVD','SVD', 'SVD','PCA','PCA']\n",
    "    df['Vector'] = ['u', 'v']*3\n",
    "            \n",
    "            \n",
    "    return df\n"
   ]
  },
  {
   "cell_type": "code",
   "execution_count": 10,
   "metadata": {},
   "outputs": [
    {
     "data": {
      "text/html": [
       "<div>\n",
       "<style scoped>\n",
       "    .dataframe tbody tr th:only-of-type {\n",
       "        vertical-align: middle;\n",
       "    }\n",
       "\n",
       "    .dataframe tbody tr th {\n",
       "        vertical-align: top;\n",
       "    }\n",
       "\n",
       "    .dataframe thead th {\n",
       "        text-align: right;\n",
       "    }\n",
       "</style>\n",
       "<table border=\"1\" class=\"dataframe\">\n",
       "  <thead>\n",
       "    <tr style=\"text-align: right;\">\n",
       "      <th></th>\n",
       "      <th>Average # of zeros</th>\n",
       "      <th>Average # of correct zeros</th>\n",
       "      <th>Average # of correct nonzeros</th>\n",
       "      <th>Misclassification rate</th>\n",
       "      <th>Method</th>\n",
       "      <th>Vector</th>\n",
       "    </tr>\n",
       "  </thead>\n",
       "  <tbody>\n",
       "    <tr>\n",
       "      <th>0</th>\n",
       "      <td>69.98</td>\n",
       "      <td>69.96</td>\n",
       "      <td>24.98</td>\n",
       "      <td>0.0506</td>\n",
       "      <td>SSVD</td>\n",
       "      <td>u</td>\n",
       "    </tr>\n",
       "    <tr>\n",
       "      <th>1</th>\n",
       "      <td>31.32</td>\n",
       "      <td>31.32</td>\n",
       "      <td>16.00</td>\n",
       "      <td>0.0536</td>\n",
       "      <td>SSVD</td>\n",
       "      <td>v</td>\n",
       "    </tr>\n",
       "    <tr>\n",
       "      <th>2</th>\n",
       "      <td>0.00</td>\n",
       "      <td>0.00</td>\n",
       "      <td>25.00</td>\n",
       "      <td>0.7500</td>\n",
       "      <td>SVD</td>\n",
       "      <td>u</td>\n",
       "    </tr>\n",
       "    <tr>\n",
       "      <th>3</th>\n",
       "      <td>0.00</td>\n",
       "      <td>0.00</td>\n",
       "      <td>16.00</td>\n",
       "      <td>0.6800</td>\n",
       "      <td>SVD</td>\n",
       "      <td>v</td>\n",
       "    </tr>\n",
       "    <tr>\n",
       "      <th>4</th>\n",
       "      <td>51.22</td>\n",
       "      <td>51.22</td>\n",
       "      <td>25.00</td>\n",
       "      <td>0.2378</td>\n",
       "      <td>PCA</td>\n",
       "      <td>u</td>\n",
       "    </tr>\n",
       "    <tr>\n",
       "      <th>5</th>\n",
       "      <td>23.10</td>\n",
       "      <td>23.10</td>\n",
       "      <td>16.00</td>\n",
       "      <td>0.2180</td>\n",
       "      <td>PCA</td>\n",
       "      <td>v</td>\n",
       "    </tr>\n",
       "  </tbody>\n",
       "</table>\n",
       "</div>"
      ],
      "text/plain": [
       "   Average # of zeros  Average # of correct zeros  \\\n",
       "0               69.98                       69.96   \n",
       "1               31.32                       31.32   \n",
       "2                0.00                        0.00   \n",
       "3                0.00                        0.00   \n",
       "4               51.22                       51.22   \n",
       "5               23.10                       23.10   \n",
       "\n",
       "   Average # of correct nonzeros  Misclassification rate Method Vector  \n",
       "0                          24.98                  0.0506   SSVD      u  \n",
       "1                          16.00                  0.0536   SSVD      v  \n",
       "2                          25.00                  0.7500    SVD      u  \n",
       "3                          16.00                  0.6800    SVD      v  \n",
       "4                          25.00                  0.2378    PCA      u  \n",
       "5                          16.00                  0.2180    PCA      v  "
      ]
     },
     "execution_count": 10,
     "metadata": {},
     "output_type": "execute_result"
    }
   ],
   "source": [
    "simulation_compare(U=u_true, S=s_true, V=v_true, nsim = 50)"
   ]
  },
  {
   "cell_type": "markdown",
   "metadata": {},
   "source": [
    "From the above dataframe, SSVD returns the largest average number of correct zeros/nonzeros and lowest misclassification rate compared to SVD and PCA. Thus, we can conclude SSVD has the highest accuracy among these three methods for demonstrating sparsity in high-dimension low sample size (HDLSS) data."
   ]
  },
  {
   "cell_type": "markdown",
   "metadata": {},
   "source": [
    "# 8. Discussion"
   ]
  },
  {
   "cell_type": "markdown",
   "metadata": {},
   "source": [
    "The sparse singular value decomposition (SSVD) is a good tool for biclustering. It is beneficial to the data that is high-dimension low sample size (HDLSS). It takes advantage of adaptive lasso and BIC criterion and get a rank1 approximation. According the result of simulated and real-world data, SSVD can perform fast with small misclassification rates. SSVD can be applied to a lot of academic fields, including biomiedical application, text analysis and other classification problems with HDLSS settings. \n",
    "\n",
    "One of the limitation is that the algorithm does not specify the procedure of choosing lambdas' ranges. Since the result of SSVD depends on these choices, it would be better to find a way to accommodate the ranges according to the data in order to get more satisfactory results. "
   ]
  },
  {
   "cell_type": "markdown",
   "metadata": {},
   "source": [
    "# 9. Installation instruction"
   ]
  },
  {
   "cell_type": "markdown",
   "metadata": {},
   "source": [
    "The github respository is here: https://github.com/yanqinshen/STA-663-project.\n",
    "\n",
    "You can install the package by this command line: `pip install git+https://github.com/yanqinshen/STA-663-project.git@main`."
   ]
  },
  {
   "cell_type": "markdown",
   "metadata": {},
   "source": [
    "# 9. Reference"
   ]
  },
  {
   "cell_type": "markdown",
   "metadata": {},
   "source": [
    "Lee, M., Shen, H., Huang, J., and Marron, J. (2010). Biclustering via sparse singular value decomposition. Biometrics 66, 1087-1095."
   ]
  }
 ],
 "metadata": {
  "kernelspec": {
   "display_name": "Python 3",
   "language": "python",
   "name": "python3"
  },
  "language_info": {
   "codemirror_mode": {
    "name": "ipython",
    "version": 3
   },
   "file_extension": ".py",
   "mimetype": "text/x-python",
   "name": "python",
   "nbconvert_exporter": "python",
   "pygments_lexer": "ipython3",
   "version": "3.8.5"
  }
 },
 "nbformat": 4,
 "nbformat_minor": 4
}
